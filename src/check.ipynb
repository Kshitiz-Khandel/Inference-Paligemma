{
 "cells": [
  {
   "cell_type": "code",
   "execution_count": 1,
   "id": "ddfc4f83-6a62-42d8-82d2-92be46e1774f",
   "metadata": {
    "tags": []
   },
   "outputs": [
    {
     "name": "stdout",
     "output_type": "stream",
     "text": [
      "flash test ok, out.shape= torch.Size([6, 8, 64])\n"
     ]
    }
   ],
   "source": [
    "import torch\n",
    "from flash_attn import flash_attn_varlen_func\n",
    "\n",
    "# small test\n",
    "q = torch.randn(6, 8, 64, device='cuda', dtype=torch.float16).contiguous()  # sum_seq=6, nheads=8, head_dim=64\n",
    "k = torch.randn(6, 4, 64, device='cuda', dtype=torch.float16).contiguous()\n",
    "v = torch.randn(6, 4, 64, device='cuda', dtype=torch.float16).contiguous()\n",
    "cu_seqlens = torch.tensor([0, 3, 6], dtype=torch.int32, device='cuda')  # two sequences: lengths 3 and 3\n",
    "out = flash_attn_varlen_func(q, k, v, cu_seqlens_q=cu_seqlens, cu_seqlens_k=cu_seqlens, max_seqlen_q=3, max_seqlen_k=3, dropout_p=0.0, causal=True)\n",
    "print(\"flash test ok, out.shape=\", out.shape)"
   ]
  },
  {
   "cell_type": "code",
   "execution_count": 4,
   "id": "816599bf-1021-47dd-8c27-56400a96efc2",
   "metadata": {
    "tags": []
   },
   "outputs": [
    {
     "name": "stdout",
     "output_type": "stream",
     "text": [
      "FlashAttention output shape: torch.Size([2048, 16, 128])\n"
     ]
    }
   ],
   "source": [
    "\n",
    "import torch\n",
    "from flash_attn import flash_attn_varlen_func\n",
    "\n",
    "# -----------------------------\n",
    "# Fake batch parameters\n",
    "# -----------------------------\n",
    "batch_size = 4\n",
    "seq_len = 512         # sequence length\n",
    "hidden_size = 2048\n",
    "num_heads = 16\n",
    "head_dim = hidden_size // num_heads  # 2048 / 16 = 128 ✅ (≤ 256)\n",
    "\n",
    "# -----------------------------\n",
    "# Dummy hidden states\n",
    "# -----------------------------\n",
    "hidden_states = torch.randn(\n",
    "    batch_size, seq_len, hidden_size, device='cuda', dtype=torch.float16\n",
    ")\n",
    "position_ids = torch.arange(seq_len, device='cuda').unsqueeze(0).expand(batch_size, -1)\n",
    "\n",
    "# Cumulative sequence lengths for varlen FlashAttention\n",
    "cu_seqlens = torch.arange(0, batch_size * seq_len + 1, seq_len, device='cuda', dtype=torch.int32)\n",
    "max_seqlen = seq_len\n",
    "\n",
    "# -----------------------------\n",
    "# Dummy Q/K/V projections\n",
    "# -----------------------------\n",
    "q = hidden_states.view(batch_size, seq_len, num_heads, head_dim).transpose(1, 2)  # [B, H, L, D]\n",
    "k = hidden_states.view(batch_size, seq_len, num_heads, head_dim).transpose(1, 2)\n",
    "v = hidden_states.view(batch_size, seq_len, num_heads, head_dim).transpose(1, 2)\n",
    "\n",
    "# Flatten batch and sequence for flash_attn_varlen_func\n",
    "q_flat = q.transpose(1, 2).reshape(-1, num_heads, head_dim)  # [B*L, H, D]\n",
    "k_flat = k.transpose(1, 2).reshape(-1, num_heads, head_dim)\n",
    "v_flat = v.transpose(1, 2).reshape(-1, num_heads, head_dim)\n",
    "\n",
    "# -----------------------------\n",
    "# FlashAttention forward\n",
    "# -----------------------------\n",
    "output = flash_attn_varlen_func(\n",
    "    q_flat.contiguous(), \n",
    "    k_flat.contiguous(), \n",
    "    v_flat.contiguous(),\n",
    "    cu_seqlens_q=cu_seqlens,\n",
    "    cu_seqlens_k=cu_seqlens,\n",
    "    max_seqlen_q=max_seqlen,\n",
    "    max_seqlen_k=max_seqlen,\n",
    "    dropout_p=0.0,\n",
    "    causal=True\n",
    ")\n",
    "\n",
    "# -----------------------------\n",
    "# Output shape\n",
    "# -----------------------------\n",
    "print(\"FlashAttention output shape:\", output.shape)  # [B*L, H, D]\n",
    "\n"
   ]
  },
  {
   "cell_type": "code",
   "execution_count": null,
   "id": "c21b80ab-ae42-4cda-990a-14753c64229b",
   "metadata": {},
   "outputs": [],
   "source": []
  }
 ],
 "metadata": {
  "environment": {
   "kernel": "conda-base-py",
   "name": "workbench-notebooks.m130",
   "type": "gcloud",
   "uri": "us-docker.pkg.dev/deeplearning-platform-release/gcr.io/workbench-notebooks:m130"
  },
  "kernelspec": {
   "display_name": "Python 3 (ipykernel) (Local)",
   "language": "python",
   "name": "conda-base-py"
  },
  "language_info": {
   "codemirror_mode": {
    "name": "ipython",
    "version": 3
   },
   "file_extension": ".py",
   "mimetype": "text/x-python",
   "name": "python",
   "nbconvert_exporter": "python",
   "pygments_lexer": "ipython3",
   "version": "3.10.18"
  }
 },
 "nbformat": 4,
 "nbformat_minor": 5
}
