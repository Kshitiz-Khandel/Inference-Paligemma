{
 "cells": [
  {
   "cell_type": "code",
   "execution_count": 1,
   "id": "ddfc4f83-6a62-42d8-82d2-92be46e1774f",
   "metadata": {
    "tags": []
   },
   "outputs": [
    {
     "name": "stdout",
     "output_type": "stream",
     "text": [
      "flash test ok, out.shape= torch.Size([6, 8, 64])\n"
     ]
    }
   ],
   "source": [
    "import torch\n",
    "from flash_attn import flash_attn_varlen_func\n",
    "\n",
    "# small test\n",
    "q = torch.randn(6, 8, 64, device='cuda', dtype=torch.float16).contiguous()  # sum_seq=6, nheads=8, head_dim=64\n",
    "k = torch.randn(6, 4, 64, device='cuda', dtype=torch.float16).contiguous()\n",
    "v = torch.randn(6, 4, 64, device='cuda', dtype=torch.float16).contiguous()\n",
    "cu_seqlens = torch.tensor([0, 3, 6], dtype=torch.int32, device='cuda')  # two sequences: lengths 3 and 3\n",
    "out = flash_attn_varlen_func(q, k, v, cu_seqlens_q=cu_seqlens, cu_seqlens_k=cu_seqlens, max_seqlen_q=3, max_seqlen_k=3, dropout_p=0.0, causal=True)\n",
    "print(\"flash test ok, out.shape=\", out.shape)"
   ]
  },
  {
   "cell_type": "code",
   "execution_count": null,
   "id": "816599bf-1021-47dd-8c27-56400a96efc2",
   "metadata": {},
   "outputs": [],
   "source": []
  }
 ],
 "metadata": {
  "environment": {
   "kernel": "conda-base-py",
   "name": "workbench-notebooks.m130",
   "type": "gcloud",
   "uri": "us-docker.pkg.dev/deeplearning-platform-release/gcr.io/workbench-notebooks:m130"
  },
  "kernelspec": {
   "display_name": "Python 3 (ipykernel) (Local)",
   "language": "python",
   "name": "conda-base-py"
  },
  "language_info": {
   "codemirror_mode": {
    "name": "ipython",
    "version": 3
   },
   "file_extension": ".py",
   "mimetype": "text/x-python",
   "name": "python",
   "nbconvert_exporter": "python",
   "pygments_lexer": "ipython3",
   "version": "3.10.18"
  }
 },
 "nbformat": 4,
 "nbformat_minor": 5
}
