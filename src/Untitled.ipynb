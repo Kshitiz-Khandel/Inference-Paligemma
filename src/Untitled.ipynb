{
 "cells": [
  {
   "cell_type": "code",
   "execution_count": 13,
   "id": "24bd5ec9-ef25-40ec-9b26-3b6f27a507da",
   "metadata": {
    "tags": []
   },
   "outputs": [],
   "source": [
    "import torch\n",
    "next_token_active =torch.Tensor([2365,1175,1175]).view(3,1)"
   ]
  },
  {
   "cell_type": "code",
   "execution_count": 35,
   "id": "64ff36e3-d23a-4629-83f8-0846e1d6c7be",
   "metadata": {
    "tags": []
   },
   "outputs": [
    {
     "name": "stdout",
     "output_type": "stream",
     "text": [
      "tensor([[0],\n",
      "        [0],\n",
      "        [0]])\n"
     ]
    }
   ],
   "source": [
    "import torch\n",
    "\n",
    "next_token_full_batch = torch.tensor([[0],\n",
    "                                      [0],\n",
    "                                      [0]], dtype=torch.long)  # shape (3,1)\n",
    "print(next_token_full_batch)\n"
   ]
  },
  {
   "cell_type": "code",
   "execution_count": 14,
   "id": "22f4dd7c-2771-425a-bc22-0f70f04e22c6",
   "metadata": {
    "tags": []
   },
   "outputs": [
    {
     "data": {
      "text/plain": [
       "torch.Size([3, 1])"
      ]
     },
     "execution_count": 14,
     "metadata": {},
     "output_type": "execute_result"
    }
   ],
   "source": [
    "next_token_active.shape"
   ]
  },
  {
   "cell_type": "code",
   "execution_count": 15,
   "id": "525eaf87-2954-497e-90c8-401b15bc2ad7",
   "metadata": {
    "tags": []
   },
   "outputs": [
    {
     "data": {
      "text/plain": [
       "tensor([[2365.],\n",
       "        [1175.],\n",
       "        [1175.]])"
      ]
     },
     "execution_count": 15,
     "metadata": {},
     "output_type": "execute_result"
    }
   ],
   "source": [
    "next_token_active"
   ]
  },
  {
   "cell_type": "code",
   "execution_count": 17,
   "id": "83d7fad7-4bd5-416c-8c17-662b4344f0f0",
   "metadata": {
    "tags": []
   },
   "outputs": [
    {
     "data": {
      "text/plain": [
       "tensor([[0.],\n",
       "        [0.],\n",
       "        [0.]])"
      ]
     },
     "execution_count": 17,
     "metadata": {},
     "output_type": "execute_result"
    }
   ],
   "source": [
    "next_token_full_batch"
   ]
  },
  {
   "cell_type": "code",
   "execution_count": 19,
   "id": "9273115a-2f2d-4474-8624-6391ee5e2763",
   "metadata": {
    "tags": []
   },
   "outputs": [
    {
     "data": {
      "text/plain": [
       "tensor([[2365.],\n",
       "        [1175.],\n",
       "        [1175.]])"
      ]
     },
     "execution_count": 19,
     "metadata": {},
     "output_type": "execute_result"
    }
   ],
   "source": [
    "next_token_active"
   ]
  },
  {
   "cell_type": "code",
   "execution_count": 21,
   "id": "3ac5d31f-b7e7-4c48-9cb2-498dd1013dbf",
   "metadata": {
    "tags": []
   },
   "outputs": [
    {
     "data": {
      "text/plain": [
       "torch.Size([3, 1])"
      ]
     },
     "execution_count": 21,
     "metadata": {},
     "output_type": "execute_result"
    }
   ],
   "source": [
    "next_token_active.squeeze(-1).unsqueeze(-1).shape"
   ]
  },
  {
   "cell_type": "code",
   "execution_count": 22,
   "id": "c1303cd3-14df-4f1f-a5d3-e28351ca0cef",
   "metadata": {
    "tags": []
   },
   "outputs": [
    {
     "data": {
      "text/plain": [
       "tensor([[2365.],\n",
       "        [1175.],\n",
       "        [1175.]])"
      ]
     },
     "execution_count": 22,
     "metadata": {},
     "output_type": "execute_result"
    }
   ],
   "source": [
    "next_token_active.squeeze(-1).unsqueeze(-1)"
   ]
  },
  {
   "cell_type": "code",
   "execution_count": 3,
   "id": "949d45df-a6c1-4eb8-8bea-9e54ce1dc4f8",
   "metadata": {
    "tags": []
   },
   "outputs": [
    {
     "data": {
      "text/plain": [
       "tensor([[ 0.2329],\n",
       "        [ 1.1632],\n",
       "        [-0.8730]])"
      ]
     },
     "execution_count": 3,
     "metadata": {},
     "output_type": "execute_result"
    }
   ],
   "source": [
    "next_taoken_active"
   ]
  },
  {
   "cell_type": "code",
   "execution_count": 24,
   "id": "9df11dc9-4e3a-4492-8a77-12c1e3f1ec48",
   "metadata": {
    "tags": []
   },
   "outputs": [
    {
     "data": {
      "text/plain": [
       "tensor([[2365.],\n",
       "        [1175.],\n",
       "        [1175.]])"
      ]
     },
     "execution_count": 24,
     "metadata": {},
     "output_type": "execute_result"
    }
   ],
   "source": [
    "next_token_active"
   ]
  },
  {
   "cell_type": "code",
   "execution_count": 27,
   "id": "96e76ae7-25b1-4f05-ad02-f3d32da27a60",
   "metadata": {
    "tags": []
   },
   "outputs": [],
   "source": [
    "active_sequences = torch.ones(3, dtype=torch.bool)"
   ]
  },
  {
   "cell_type": "code",
   "execution_count": 30,
   "id": "a240c976-4182-4f95-9528-4e952566f710",
   "metadata": {
    "tags": []
   },
   "outputs": [],
   "source": [
    "active_sequences[0]=False"
   ]
  },
  {
   "cell_type": "code",
   "execution_count": 31,
   "id": "e721277e-e2bc-4676-a1d5-a22982dd541c",
   "metadata": {
    "tags": []
   },
   "outputs": [
    {
     "data": {
      "text/plain": [
       "tensor([False,  True,  True])"
      ]
     },
     "execution_count": 31,
     "metadata": {},
     "output_type": "execute_result"
    }
   ],
   "source": [
    "active_sequences"
   ]
  },
  {
   "cell_type": "code",
   "execution_count": 38,
   "id": "29d52a4c-e57c-4261-9c15-11e637891503",
   "metadata": {
    "tags": []
   },
   "outputs": [
    {
     "ename": "RuntimeError",
     "evalue": "shape mismatch: value tensor of shape [3, 1] cannot be broadcast to indexing result of shape [2, 1]",
     "output_type": "error",
     "traceback": [
      "\u001b[0;31m---------------------------------------------------------------------------\u001b[0m",
      "\u001b[0;31mRuntimeError\u001b[0m                              Traceback (most recent call last)",
      "Cell \u001b[0;32mIn[38], line 1\u001b[0m\n\u001b[0;32m----> 1\u001b[0m \u001b[43mnext_token_full_batch\u001b[49m\u001b[43m[\u001b[49m\u001b[43mactive_sequences\u001b[49m\u001b[43m]\u001b[49m\u001b[38;5;241m=\u001b[39mnext_token_active\u001b[38;5;241m.\u001b[39msqueeze(\u001b[38;5;241m-\u001b[39m\u001b[38;5;241m1\u001b[39m)\u001b[38;5;241m.\u001b[39munsqueeze(\u001b[38;5;241m-\u001b[39m\u001b[38;5;241m1\u001b[39m)\n",
      "\u001b[0;31mRuntimeError\u001b[0m: shape mismatch: value tensor of shape [3, 1] cannot be broadcast to indexing result of shape [2, 1]"
     ]
    }
   ],
   "source": [
    "next_token_full_batch[active_sequences]=next_token_active.squeeze(-1).unsqueeze(-1)"
   ]
  },
  {
   "cell_type": "code",
   "execution_count": null,
   "id": "d6af3980-234a-4cce-a1b6-e72db43a8698",
   "metadata": {},
   "outputs": [],
   "source": [
    "next_token_logits=tor"
   ]
  }
 ],
 "metadata": {
  "environment": {
   "kernel": "conda-base-py",
   "name": "workbench-notebooks.m130",
   "type": "gcloud",
   "uri": "us-docker.pkg.dev/deeplearning-platform-release/gcr.io/workbench-notebooks:m130"
  },
  "kernelspec": {
   "display_name": "Python 3 (ipykernel) (Local)",
   "language": "python",
   "name": "conda-base-py"
  },
  "language_info": {
   "codemirror_mode": {
    "name": "ipython",
    "version": 3
   },
   "file_extension": ".py",
   "mimetype": "text/x-python",
   "name": "python",
   "nbconvert_exporter": "python",
   "pygments_lexer": "ipython3",
   "version": "3.10.18"
  }
 },
 "nbformat": 4,
 "nbformat_minor": 5
}
